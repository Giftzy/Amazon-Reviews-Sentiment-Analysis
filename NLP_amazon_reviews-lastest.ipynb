{
 "cells": [
  {
   "cell_type": "code",
   "execution_count": null,
   "id": "75e1f6de-12a4-4d01-b2c9-a137509e661d",
   "metadata": {},
   "outputs": [],
   "source": [
    "#pip install textblob"
   ]
  },
  {
   "cell_type": "markdown",
   "id": "eda05862-cfdb-46f5-ae52-b145f264e00d",
   "metadata": {},
   "source": [
    "import pkg_resources\n",
    "print(pkg_resources.get_distribution(\"textblob\").version)"
   ]
  },
  {
   "cell_type": "code",
   "execution_count": 1,
   "id": "971be160-0e8e-436d-a1b3-ba40a036ea5d",
   "metadata": {},
   "outputs": [
    {
     "name": "stdout",
     "output_type": "stream",
     "text": [
      "Name: textblob\n",
      "Version: 0.19.0\n",
      "Summary: Simple, Pythonic text processing. Sentiment analysis, part-of-speech tagging, noun phrase parsing, and more.\n",
      "Home-page: \n",
      "Author: \n",
      "Author-email: Steven Loria <sloria1@gmail.com>\n",
      "License: \n",
      "Location: C:\\Users\\Onaivwe Gift\\AppData\\Roaming\\Python\\Python312\\site-packages\n",
      "Requires: nltk\n",
      "Required-by: \n",
      "Note: you may need to restart the kernel to use updated packages.\n"
     ]
    }
   ],
   "source": [
    "pip show textblob"
   ]
  },
  {
   "cell_type": "code",
   "execution_count": 1,
   "id": "3bfd298a-9987-41c8-8b63-30a0cf5b337c",
   "metadata": {},
   "outputs": [],
   "source": [
    "import pandas as pd\n",
    "import matplotlib.pyplot as plt\n",
    "import seaborn as sns\n",
    "from textblob import TextBlob\n",
    "from sklearn.model_selection import train_test_split\n",
    "from sklearn.metrics import accuracy_score, classification_report\n",
    "import nltk\n",
    "from nltk.corpus import stopwords\n",
    "from nltk.stem import WordNetLemmatizer"
   ]
  },
  {
   "cell_type": "code",
   "execution_count": 2,
   "id": "a29d4b7e-da4c-4200-8779-7fe581a4bda5",
   "metadata": {},
   "outputs": [
    {
     "name": "stderr",
     "output_type": "stream",
     "text": [
      "[nltk_data] Downloading package stopwords to C:\\Users\\Onaivwe\n",
      "[nltk_data]     Gift\\AppData\\Roaming\\nltk_data...\n",
      "[nltk_data]   Package stopwords is already up-to-date!\n",
      "[nltk_data] Downloading package wordnet to C:\\Users\\Onaivwe\n",
      "[nltk_data]     Gift\\AppData\\Roaming\\nltk_data...\n",
      "[nltk_data] Downloading package omw-1.4 to C:\\Users\\Onaivwe\n",
      "[nltk_data]     Gift\\AppData\\Roaming\\nltk_data...\n"
     ]
    },
    {
     "data": {
      "text/plain": [
       "True"
      ]
     },
     "execution_count": 2,
     "metadata": {},
     "output_type": "execute_result"
    }
   ],
   "source": [
    "# Download NLTK resources (first run only)\n",
    "nltk.download('stopwords')\n",
    "nltk.download('wordnet')\n",
    "nltk.download('omw-1.4')"
   ]
  },
  {
   "cell_type": "code",
   "execution_count": 3,
   "id": "8476fb99-2cd8-45eb-8a5a-3d3da84a696d",
   "metadata": {},
   "outputs": [],
   "source": [
    "# ------------------------\n",
    "# Load Dataset\n",
    "# ------------------------\n",
    "df = pd.read_csv(\"./excel_work-data/amazon_reviews.csv\")\n",
    "df['reviewText'] = df['reviewText'].astype(str).fillna('')"
   ]
  },
  {
   "cell_type": "code",
   "execution_count": 4,
   "id": "d6e31d3c-d1df-4c33-b737-e47d58ad34e7",
   "metadata": {},
   "outputs": [],
   "source": [
    "# ------------------------\n",
    "# Text Preprocessing\n",
    "# ------------------------\n",
    "stop_words = set(stopwords.words(\"english\"))\n",
    "lemmatizer = WordNetLemmatizer()\n",
    "\n",
    "def preprocess_text(text):\n",
    "    words = text.lower().split()\n",
    "    words = [lemmatizer.lemmatize(w) for w in words if w not in stop_words]\n",
    "    return \" \".join(words)\n",
    "\n",
    "df['cleaned_review'] = df['reviewText'].apply(preprocess_text)"
   ]
  },
  {
   "cell_type": "code",
   "execution_count": 5,
   "id": "27d5cb8d-1b52-462b-922e-5f5cd82e4262",
   "metadata": {},
   "outputs": [],
   "source": [
    "# ------------------------\n",
    "# Sentiment with TextBlob\n",
    "# ------------------------\n",
    "df['polarity'] = df['cleaned_review'].apply(lambda x: TextBlob(x).sentiment.polarity)\n",
    "\n",
    "def categorize_sentiment(polarity):\n",
    "    if polarity > 0:\n",
    "        return \"positive\"\n",
    "    elif polarity < 0:\n",
    "        return \"negative\"\n",
    "    else:\n",
    "        return \"neutral\"\n",
    "\n",
    "df['sentiment'] = df['polarity'].apply(categorize_sentiment)"
   ]
  },
  {
   "cell_type": "code",
   "execution_count": 7,
   "id": "337cd94c-4805-4962-8d62-91d05e1467cf",
   "metadata": {},
   "outputs": [],
   "source": [
    "# ------------------------\n",
    "# Train-Test Split & Evaluation\n",
    "# ------------------------\n",
    "X_train, X_test, y_train, y_test = train_test_split(\n",
    "    df['cleaned_review'], df['sentiment'], test_size=0.2, random_state=42\n",
    ")"
   ]
  },
  {
   "cell_type": "code",
   "execution_count": 8,
   "id": "614b1ece-8894-419d-b0a6-5e9c77b2c32e",
   "metadata": {},
   "outputs": [
    {
     "name": "stdout",
     "output_type": "stream",
     "text": [
      "Accuracy: 1.0\n",
      "\n",
      "Classification Report:\n",
      "               precision    recall  f1-score   support\n",
      "\n",
      "    negative       1.00      1.00      1.00        12\n",
      "     neutral       1.00      1.00      1.00         6\n",
      "    positive       1.00      1.00      1.00       182\n",
      "\n",
      "    accuracy                           1.00       200\n",
      "   macro avg       1.00      1.00      1.00       200\n",
      "weighted avg       1.00      1.00      1.00       200\n",
      "\n"
     ]
    }
   ],
   "source": [
    "predictions = [categorize_sentiment(TextBlob(text).sentiment.polarity) for text in X_test]\n",
    "print(\"Accuracy:\", accuracy_score(y_test, predictions))\n",
    "print(\"\\nClassification Report:\\n\", classification_report(y_test, predictions))"
   ]
  },
  {
   "cell_type": "code",
   "execution_count": 9,
   "id": "60a9a46f-59a4-4e3b-a64b-0379ebeef2e5",
   "metadata": {},
   "outputs": [
    {
     "name": "stderr",
     "output_type": "stream",
     "text": [
      "C:\\Users\\Onaivwe Gift\\AppData\\Local\\Temp\\ipykernel_26044\\2794229677.py:5: FutureWarning: \n",
      "\n",
      "Passing `palette` without assigning `hue` is deprecated and will be removed in v0.14.0. Assign the `x` variable to `hue` and set `legend=False` for the same effect.\n",
      "\n",
      "  sns.countplot(x=\"sentiment\", data=df, palette=\"Set2\")\n"
     ]
    },
    {
     "data": {
      "image/png": "[encoded data removed]",
      "text/plain": [
       "<Figure size 600x600 with 1 Axes>"
      ]
     },
     "metadata": {},
     "output_type": "display_data"
    }
   ],
   "source": [
    "# ------------------------\n",
    "# Visualization\n",
    "# ------------------------\n",
    "plt.figure(figsize=(6, 6))\n",
    "sns.countplot(x=\"sentiment\", data=df, palette=\"Set2\")\n",
    "plt.title(\"Sentiment Distribution\")\n",
    "plt.show()"
   ]
  },
  {
   "cell_type": "code",
   "execution_count": 10,
   "id": "7eb548d2-f491-4037-9c66-4f4408ca6c01",
   "metadata": {},
   "outputs": [
    {
     "data": {
      "image/png": "[encoded data removed]",
      "text/plain": [
       "<Figure size 600x600 with 1 Axes>"
      ]
     },
     "metadata": {},
     "output_type": "display_data"
    }
   ],
   "source": [
    "df['sentiment'].value_counts().plot.pie(autopct='%1.1f%%', figsize=(6,6), startangle=90, colors=[\"lightgreen\",\"salmon\",\"skyblue\"])\n",
    "plt.title(\"Sentiment Distribution (Pie Chart)\")\n",
    "plt.ylabel(\"\")\n",
    "plt.show()"
   ]
  }
 ],
 "metadata": {
  "kernelspec": {
   "display_name": "Python 3 (ipykernel)",
   "language": "python",
   "name": "python3"
  },
  "language_info": {
   "codemirror_mode": {
    "name": "ipython",
    "version": 3
   },
   "file_extension": ".py",
   "mimetype": "text/x-python",
   "name": "python",
   "nbconvert_exporter": "python",
   "pygments_lexer": "ipython3",
   "version": "3.12.7"
  }
 },
 "nbformat": 4,
 "nbformat_minor": 5
}
